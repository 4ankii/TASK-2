{
 "cells": [
  {
   "cell_type": "code",
   "execution_count": 1,
   "metadata": {},
   "outputs": [
    {
     "name": "stdout",
     "output_type": "stream",
     "text": [
      "Enter a number to check if it is prime: 5\n",
      "Prime: True\n"
     ]
    }
   ],
   "source": [
    "'''9.Prime Number\n",
    "Objective: Determine if a number is prime.\n",
    "Input: A single integer nnn.\n",
    "Output: True if prime, otherwise False.\n",
    "Hint: A prime number has no divisors other than 1 and itself; check divisors up to\n",
    "n\\sqrt{n}n'''\n",
    "\n",
    "def is_prime(n):\n",
    "    if n <= 1:\n",
    "        return False\n",
    "    for i in range(2, int(n ** 0.5) + 1):\n",
    "        if n % i == 0:\n",
    "            return False\n",
    "    return True\n",
    "\n",
    "n = int(input(\"Enter a number to check if it is prime: \"))\n",
    "print(\"Prime:\", is_prime(n))\n",
    "\n"
   ]
  },
  {
   "cell_type": "code",
   "execution_count": 2,
   "metadata": {},
   "outputs": [
    {
     "name": "stdout",
     "output_type": "stream",
     "text": [
      "Enter a number to find the sum of its digits: 1568\n",
      "Sum of digits: 20\n"
     ]
    }
   ],
   "source": [
    "'''10. Sum of Digits\n",
    "Objective: Find the sum of the digits in a number.\n",
    "Input: An integer nnn.\n",
    "Output: Single integer, the sum of digits.\n",
    "Hint: Convert the number to a string, iterate through characters, and sum up the digits.\n",
    "'''\n",
    "def sum_of_digits(n):\n",
    "    return sum(int(digit) for digit in str(abs(n)))\n",
    "\n",
    "n = int(input(\"Enter a number to find the sum of its digits: \"))\n",
    "print(\"Sum of digits:\", sum_of_digits(n))\n",
    "\n"
   ]
  },
  {
   "cell_type": "code",
   "execution_count": 3,
   "metadata": {},
   "outputs": [
    {
     "name": "stdout",
     "output_type": "stream",
     "text": [
      "Enter first number: 7\n",
      "Enter second number: 5\n",
      "LCM: 35\n",
      "GCD: 1\n"
     ]
    }
   ],
   "source": [
    "'''11. LCM and GCD\n",
    "Objective: Calculate the Least Common Multiple (LCM) and Greatest Common Divisor\n",
    "(GCD) of two integers.\n",
    "Input: Two integers aaa and bbb.\n",
    "Output: Two integers: LCM and GCD of aaa and bbb.\n",
    "Hint: Use the relationship LCM(a,b)=∣a⋅b∣GCD(a,b)\\text{LCM}(a, b) = \\frac{|a \\cdot\n",
    "b|}{\\text{GCD}(a, b)}LCM(a,b)=GCD(a,b)∣a⋅b∣. Python's math.gcd() function can\n",
    "simplify this.\n",
    "'''\n",
    "import math\n",
    "\n",
    "def lcm_and_gcd(a, b):\n",
    "    gcd_val = math.gcd(a, b)\n",
    "    lcm_val = abs(a * b) // gcd_val\n",
    "    return lcm_val, gcd_val\n",
    "\n",
    "a = int(input(\"Enter first number: \"))\n",
    "b = int(input(\"Enter second number: \"))\n",
    "lcm, gcd = lcm_and_gcd(a, b)\n",
    "print(\"LCM:\", lcm)\n",
    "print(\"GCD:\", gcd)\n"
   ]
  },
  {
   "cell_type": "code",
   "execution_count": 4,
   "metadata": {},
   "outputs": [
    {
     "name": "stdout",
     "output_type": "stream",
     "text": [
      "Enter a list of integers (space-separated): 8 5 6 4 2 1\n",
      "Reversed list: [1, 2, 4, 6, 5, 8]\n"
     ]
    }
   ],
   "source": [
    "'''12. List Reversal\n",
    "Objective: Reverse a given list without using built-in functions.\n",
    "Input: A list of integers.\n",
    "Output: Reversed list.\n",
    "Hint: Use a loop to swap elements from start to end or slice the list ([::-1]).\n",
    "'''\n",
    "def reverse_list(lst):\n",
    "    start = 0\n",
    "    end = len(lst) - 1\n",
    "    while start < end:\n",
    "        lst[start], lst[end] = lst[end], lst[start]\n",
    "        start += 1\n",
    "        end -= 1\n",
    "    return lst\n",
    "\n",
    "lst = list(map(int, input(\"Enter a list of integers (space-separated): \").split()))\n",
    "print(\"Reversed list:\", reverse_list(lst))\n"
   ]
  },
  {
   "cell_type": "code",
   "execution_count": 5,
   "metadata": {},
   "outputs": [
    {
     "name": "stdout",
     "output_type": "stream",
     "text": [
      "Enter a list of integers to sort (space-separated): 5 4 6 2 1 0\n",
      "Sorted list: [0, 1, 2, 4, 5, 6]\n"
     ]
    }
   ],
   "source": [
    "'''13. Sort a List\n",
    "Objective: Sort a list of numbers in ascending order.\n",
    "Input: A list of integersOutput: A sorted list.\n",
    "Hint: Use sorting algorithms like bubble sort, selection sort, or simply sorted().\n",
    "'''\n",
    "def bubble_sort(lst):\n",
    "    n = len(lst)\n",
    "    for i in range(n):\n",
    "        for j in range(n - i - 1):\n",
    "            if lst[j] > lst[j + 1]:\n",
    "                lst[j], lst[j + 1] = lst[j + 1], lst[j]\n",
    "    return lst\n",
    "\n",
    "lst = list(map(int, input(\"Enter a list of integers to sort (space-separated): \").split()))\n",
    "print(\"Sorted list:\", bubble_sort(lst))\n"
   ]
  },
  {
   "cell_type": "code",
   "execution_count": 7,
   "metadata": {},
   "outputs": [
    {
     "name": "stdout",
     "output_type": "stream",
     "text": [
      "Enter a list with duplicates (space-separated): 1 2 3 2 1 5 7 8\n",
      "List without duplicates: [1, 2, 3, 5, 7, 8]\n"
     ]
    }
   ],
   "source": [
    "'''14. Remove Duplicates\n",
    "Objective: Remove duplicate elements from a list.\n",
    "Input: A list of integers.\n",
    "Output: A list with unique elements.\n",
    "Hint: Use a set to eliminate duplicates or iterate and add unique elements to a new list.\n",
    "'''\n",
    "def remove_duplicates(lst):\n",
    "    seen = set()\n",
    "    unique = []\n",
    "    for item in lst:\n",
    "        if item not in seen:\n",
    "            seen.add(item)\n",
    "            unique.append(item)\n",
    "    return unique\n",
    "\n",
    "lst = list(map(int, input(\"Enter a list with duplicates (space-separated): \").split()))\n",
    "print(\"List without duplicates:\", remove_duplicates(lst))\n"
   ]
  },
  {
   "cell_type": "code",
   "execution_count": 8,
   "metadata": {},
   "outputs": [
    {
     "name": "stdout",
     "output_type": "stream",
     "text": [
      "Enter a string: ankit kumar\n",
      "Length of string: 11\n"
     ]
    }
   ],
   "source": [
    "'''15. String Length\n",
    "Objective: Find the length of a string without using the len() function.\n",
    "Input: A string.\n",
    "Output: Integer representing the length.\n",
    "Hint: Use a loop to count characters in the string.\n",
    "'''\n",
    "def string_length(s):\n",
    "    count = 0\n",
    "    for _ in s:\n",
    "        count += 1\n",
    "    return count\n",
    "\n",
    "s = input(\"Enter a string: \")\n",
    "print(\"Length of string:\", string_length(s))\n"
   ]
  },
  {
   "cell_type": "code",
   "execution_count": 9,
   "metadata": {},
   "outputs": [
    {
     "name": "stdout",
     "output_type": "stream",
     "text": [
      "Enter a string to count vowels and consonants: a b c d e n m o u\n",
      "Vowels: 4\n",
      "Consonants: 5\n"
     ]
    }
   ],
   "source": [
    "'''\n",
    "16. Count Vowels and Consonants\n",
    "Objective: Count the number of vowels and consonants in a string.\n",
    "Input: A string.\n",
    "Output: Two integers: count of vowels and count of consonants.\n",
    "Hint: Define a set of vowels ('a', 'e', 'i', 'o', 'u'), and use string methods to\n",
    "identify letters.'''\n",
    "def count_vowels_consonants(s):\n",
    "    vowels = set(\"aeiouAEIOU\")\n",
    "    vowel_count = 0\n",
    "    consonant_count = 0\n",
    "    for char in s:\n",
    "        if char.isalpha():\n",
    "            if char in vowels:\n",
    "                vowel_count += 1\n",
    "            else:\n",
    "                consonant_count += 1\n",
    "    return vowel_count, consonant_count\n",
    "\n",
    "s = input(\"Enter a string to count vowels and consonants: \")\n",
    "vowels, consonants = count_vowels_consonants(s)\n",
    "print(\"Vowels:\", vowels)\n",
    "print(\"Consonants:\", consonants)\n"
   ]
  },
  {
   "cell_type": "code",
   "execution_count": null,
   "metadata": {},
   "outputs": [],
   "source": []
  }
 ],
 "metadata": {
  "kernelspec": {
   "display_name": "Python 3",
   "language": "python",
   "name": "python3"
  },
  "language_info": {
   "codemirror_mode": {
    "name": "ipython",
    "version": 3
   },
   "file_extension": ".py",
   "mimetype": "text/x-python",
   "name": "python",
   "nbconvert_exporter": "python",
   "pygments_lexer": "ipython3",
   "version": "3.7.4"
  }
 },
 "nbformat": 4,
 "nbformat_minor": 2
}
